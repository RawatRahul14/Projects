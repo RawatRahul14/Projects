{
 "cells": [
  {
   "cell_type": "markdown",
   "metadata": {},
   "source": [
    "# Image Captioning using Attention Mechanism"
   ]
  },
  {
   "cell_type": "markdown",
   "metadata": {},
   "source": [
    "In this project, I will develop an Image Captioning model that leverages an Attention mechanism to generate descriptive captions for images. The model's architecture will consist of two main components:\n",
    "\n",
    "- Encoder: This component utilizes a Convolutional Neural Network (CNN) to extract high-level features from input images. The CNN will process the image and produce a set of feature maps that capture essential visual information.\n",
    "\n",
    "- Decoder: The Decoder, implemented as a Recurrent Neural Network (RNN), will use the feature maps from the Encoder to generate descriptive captions. An Attention mechanism will be incorporated to enable the model to focus on different parts of the image while generating each word in the caption, thereby improving the quality and relevance of the generated text.\n",
    "\n",
    "By integrating these components, the model aims to provide accurate and contextually rich descriptions for a variety of images."
   ]
  },
  {
   "cell_type": "markdown",
   "metadata": {},
   "source": [
    "First, import all the necessary dependencies."
   ]
  },
  {
   "cell_type": "code",
   "execution_count": 1,
   "metadata": {},
   "outputs": [],
   "source": [
    "import os\n",
    "import spacy\n",
    "import numpy as np\n",
    "import pandas as pd\n",
    "import matplotlib.pyplot as plt\n",
    "import zipfile\n",
    "\n",
    "import torch\n",
    "import torchtext; torchtext.disable_torchtext_deprecation_warning()\n",
    "import torch.nn as nn\n",
    "import torch.optim as optim\n",
    "import torch.nn.functional as F\n",
    "import torchvision.transforms as T\n",
    "import torchvision.models as models\n",
    "\n",
    "from PIL import Image\n",
    "from collections import Counter\n",
    "\n",
    "from torchtext.vocab import vocab\n",
    "from torchtext.data.utils import get_tokenizer\n",
    "\n",
    "from torch.nn.utils.rnn import pad_sequence\n",
    "from torch.utils.data import Dataset, DataLoader"
   ]
  },
  {
   "cell_type": "markdown",
   "metadata": {},
   "source": [
    "Extracting the dataset"
   ]
  },
  {
   "cell_type": "code",
   "execution_count": 3,
   "metadata": {},
   "outputs": [],
   "source": [
    "def extract_zip(zip_path, extract_to_folder):\n",
    "    \"\"\"\n",
    "    Extracts a zip file to a specific folder.\n",
    "\n",
    "    Parameters:\n",
    "    zip_path (str): Path to zip file\n",
    "    extract_to_folder (str): Directory where the ZIP file should be extracted\n",
    "    \"\"\"\n",
    "    # Create the destination directory if it does not exist\n",
    "    os.makedirs(extract_to_folder, exist_ok = True)\n",
    "\n",
    "    try:\n",
    "        # Opening the zip file\n",
    "        with zipfile.ZipFile(zip_path, \"r\") as zip_ref:\n",
    "            # Extracting all the contents into a specifies folder\n",
    "            zip_ref.extractall(extract_to_folder)\n",
    "        print(f\"ZIP file extracted successfully to {extract_to_folder}.\")\n",
    "\n",
    "    except FileNotFoundError:\n",
    "        print(f\"Error: The file {zip_path} does not exist.\")\n",
    "\n",
    "    except zipfile.BadZipFile:\n",
    "        print(f\"Error: The file {zip_path} is not a ZIP file or it is corrupted.\")\n",
    "\n",
    "    except Exception as e:\n",
    "        print(f\"An unexcepted error occurred: {e}\")"
   ]
  },
  {
   "cell_type": "code",
   "execution_count": 4,
   "metadata": {},
   "outputs": [],
   "source": [
    "# Path for the Zip file and Path for the Directory\n",
    "zip_path = \"Data/datasets/flickr8k.zip\"\n",
    "extract_to_folder = \"Data\""
   ]
  },
  {
   "cell_type": "code",
   "execution_count": 5,
   "metadata": {},
   "outputs": [
    {
     "name": "stdout",
     "output_type": "stream",
     "text": [
      "ZIP file extracted successfully to Data.\n"
     ]
    }
   ],
   "source": [
    "# Extract the ZIP file\n",
    "extract_zip(zip_path, extract_to_folder)"
   ]
  },
  {
   "cell_type": "code",
   "execution_count": null,
   "metadata": {},
   "outputs": [],
   "source": []
  }
 ],
 "metadata": {
  "kernelspec": {
   "display_name": "Python 3",
   "language": "python",
   "name": "python3"
  },
  "language_info": {
   "codemirror_mode": {
    "name": "ipython",
    "version": 3
   },
   "file_extension": ".py",
   "mimetype": "text/x-python",
   "name": "python",
   "nbconvert_exporter": "python",
   "pygments_lexer": "ipython3",
   "version": "3.11.8"
  }
 },
 "nbformat": 4,
 "nbformat_minor": 2
}
