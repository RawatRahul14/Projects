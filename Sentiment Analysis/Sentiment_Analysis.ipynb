{
  "nbformat": 4,
  "nbformat_minor": 0,
  "metadata": {
    "colab": {
      "provenance": []
    },
    "kernelspec": {
      "name": "python3",
      "display_name": "Python 3"
    },
    "language_info": {
      "name": "python"
    }
  },
  "cells": [
    {
      "cell_type": "code",
      "execution_count": 1,
      "metadata": {
        "colab": {
          "base_uri": "https://localhost:8080/"
        },
        "id": "EtKAhAXzrQL8",
        "outputId": "e8f88ebe-32bf-46a1-d292-665304fe6e3c"
      },
      "outputs": [
        {
          "output_type": "stream",
          "name": "stdout",
          "text": [
            "Requirement already satisfied: emoji in /usr/local/lib/python3.10/dist-packages (2.11.1)\n",
            "Requirement already satisfied: keras in /usr/local/lib/python3.10/dist-packages (2.15.0)\n"
          ]
        }
      ],
      "source": [
        "!pip install emoji keras"
      ]
    },
    {
      "cell_type": "code",
      "source": [
        "# Importing the required packages and dependencies\n",
        "import numpy as np\n",
        "import pandas as pd\n",
        "\n",
        "import emoji\n",
        "\n",
        "from keras.models import Sequential\n",
        "from keras.layers import Dense, LSTM, SimpleRNN, Embedding\n",
        "from keras.preprocessing.text import Tokenizer\n",
        "from keras.utils import pad_sequences\n",
        "from tensorflow.keras.utils import to_categorical"
      ],
      "metadata": {
        "id": "cHIo0njQroSk"
      },
      "execution_count": 2,
      "outputs": []
    },
    {
      "cell_type": "code",
      "source": [
        "# Importing the dataset\n",
        "data = pd.read_csv(\"emoji_data.csv\", header = None)\n",
        "data.head()"
      ],
      "metadata": {
        "colab": {
          "base_uri": "https://localhost:8080/",
          "height": 206
        },
        "id": "dF6kS8vmsAlL",
        "outputId": "70b91c19-0e39-4936-fe96-3aac127f3af8"
      },
      "execution_count": 3,
      "outputs": [
        {
          "output_type": "execute_result",
          "data": {
            "text/plain": [
              "                             0  1\n",
              "0  French macaroon is so tasty  4\n",
              "1             work is horrible  3\n",
              "2                   I am upset  3\n",
              "3               throw the ball  1\n",
              "4                    Good joke  2"
            ],
            "text/html": [
              "\n",
              "  <div id=\"df-e22cb6c5-3677-4aa7-a943-9e27157fb0e4\" class=\"colab-df-container\">\n",
              "    <div>\n",
              "<style scoped>\n",
              "    .dataframe tbody tr th:only-of-type {\n",
              "        vertical-align: middle;\n",
              "    }\n",
              "\n",
              "    .dataframe tbody tr th {\n",
              "        vertical-align: top;\n",
              "    }\n",
              "\n",
              "    .dataframe thead th {\n",
              "        text-align: right;\n",
              "    }\n",
              "</style>\n",
              "<table border=\"1\" class=\"dataframe\">\n",
              "  <thead>\n",
              "    <tr style=\"text-align: right;\">\n",
              "      <th></th>\n",
              "      <th>0</th>\n",
              "      <th>1</th>\n",
              "    </tr>\n",
              "  </thead>\n",
              "  <tbody>\n",
              "    <tr>\n",
              "      <th>0</th>\n",
              "      <td>French macaroon is so tasty</td>\n",
              "      <td>4</td>\n",
              "    </tr>\n",
              "    <tr>\n",
              "      <th>1</th>\n",
              "      <td>work is horrible</td>\n",
              "      <td>3</td>\n",
              "    </tr>\n",
              "    <tr>\n",
              "      <th>2</th>\n",
              "      <td>I am upset</td>\n",
              "      <td>3</td>\n",
              "    </tr>\n",
              "    <tr>\n",
              "      <th>3</th>\n",
              "      <td>throw the ball</td>\n",
              "      <td>1</td>\n",
              "    </tr>\n",
              "    <tr>\n",
              "      <th>4</th>\n",
              "      <td>Good joke</td>\n",
              "      <td>2</td>\n",
              "    </tr>\n",
              "  </tbody>\n",
              "</table>\n",
              "</div>\n",
              "    <div class=\"colab-df-buttons\">\n",
              "\n",
              "  <div class=\"colab-df-container\">\n",
              "    <button class=\"colab-df-convert\" onclick=\"convertToInteractive('df-e22cb6c5-3677-4aa7-a943-9e27157fb0e4')\"\n",
              "            title=\"Convert this dataframe to an interactive table.\"\n",
              "            style=\"display:none;\">\n",
              "\n",
              "  <svg xmlns=\"http://www.w3.org/2000/svg\" height=\"24px\" viewBox=\"0 -960 960 960\">\n",
              "    <path d=\"M120-120v-720h720v720H120Zm60-500h600v-160H180v160Zm220 220h160v-160H400v160Zm0 220h160v-160H400v160ZM180-400h160v-160H180v160Zm440 0h160v-160H620v160ZM180-180h160v-160H180v160Zm440 0h160v-160H620v160Z\"/>\n",
              "  </svg>\n",
              "    </button>\n",
              "\n",
              "  <style>\n",
              "    .colab-df-container {\n",
              "      display:flex;\n",
              "      gap: 12px;\n",
              "    }\n",
              "\n",
              "    .colab-df-convert {\n",
              "      background-color: #E8F0FE;\n",
              "      border: none;\n",
              "      border-radius: 50%;\n",
              "      cursor: pointer;\n",
              "      display: none;\n",
              "      fill: #1967D2;\n",
              "      height: 32px;\n",
              "      padding: 0 0 0 0;\n",
              "      width: 32px;\n",
              "    }\n",
              "\n",
              "    .colab-df-convert:hover {\n",
              "      background-color: #E2EBFA;\n",
              "      box-shadow: 0px 1px 2px rgba(60, 64, 67, 0.3), 0px 1px 3px 1px rgba(60, 64, 67, 0.15);\n",
              "      fill: #174EA6;\n",
              "    }\n",
              "\n",
              "    .colab-df-buttons div {\n",
              "      margin-bottom: 4px;\n",
              "    }\n",
              "\n",
              "    [theme=dark] .colab-df-convert {\n",
              "      background-color: #3B4455;\n",
              "      fill: #D2E3FC;\n",
              "    }\n",
              "\n",
              "    [theme=dark] .colab-df-convert:hover {\n",
              "      background-color: #434B5C;\n",
              "      box-shadow: 0px 1px 3px 1px rgba(0, 0, 0, 0.15);\n",
              "      filter: drop-shadow(0px 1px 2px rgba(0, 0, 0, 0.3));\n",
              "      fill: #FFFFFF;\n",
              "    }\n",
              "  </style>\n",
              "\n",
              "    <script>\n",
              "      const buttonEl =\n",
              "        document.querySelector('#df-e22cb6c5-3677-4aa7-a943-9e27157fb0e4 button.colab-df-convert');\n",
              "      buttonEl.style.display =\n",
              "        google.colab.kernel.accessAllowed ? 'block' : 'none';\n",
              "\n",
              "      async function convertToInteractive(key) {\n",
              "        const element = document.querySelector('#df-e22cb6c5-3677-4aa7-a943-9e27157fb0e4');\n",
              "        const dataTable =\n",
              "          await google.colab.kernel.invokeFunction('convertToInteractive',\n",
              "                                                    [key], {});\n",
              "        if (!dataTable) return;\n",
              "\n",
              "        const docLinkHtml = 'Like what you see? Visit the ' +\n",
              "          '<a target=\"_blank\" href=https://colab.research.google.com/notebooks/data_table.ipynb>data table notebook</a>'\n",
              "          + ' to learn more about interactive tables.';\n",
              "        element.innerHTML = '';\n",
              "        dataTable['output_type'] = 'display_data';\n",
              "        await google.colab.output.renderOutput(dataTable, element);\n",
              "        const docLink = document.createElement('div');\n",
              "        docLink.innerHTML = docLinkHtml;\n",
              "        element.appendChild(docLink);\n",
              "      }\n",
              "    </script>\n",
              "  </div>\n",
              "\n",
              "\n",
              "<div id=\"df-3d2187d0-2603-44d6-ad7b-c86c46f1427e\">\n",
              "  <button class=\"colab-df-quickchart\" onclick=\"quickchart('df-3d2187d0-2603-44d6-ad7b-c86c46f1427e')\"\n",
              "            title=\"Suggest charts\"\n",
              "            style=\"display:none;\">\n",
              "\n",
              "<svg xmlns=\"http://www.w3.org/2000/svg\" height=\"24px\"viewBox=\"0 0 24 24\"\n",
              "     width=\"24px\">\n",
              "    <g>\n",
              "        <path d=\"M19 3H5c-1.1 0-2 .9-2 2v14c0 1.1.9 2 2 2h14c1.1 0 2-.9 2-2V5c0-1.1-.9-2-2-2zM9 17H7v-7h2v7zm4 0h-2V7h2v10zm4 0h-2v-4h2v4z\"/>\n",
              "    </g>\n",
              "</svg>\n",
              "  </button>\n",
              "\n",
              "<style>\n",
              "  .colab-df-quickchart {\n",
              "      --bg-color: #E8F0FE;\n",
              "      --fill-color: #1967D2;\n",
              "      --hover-bg-color: #E2EBFA;\n",
              "      --hover-fill-color: #174EA6;\n",
              "      --disabled-fill-color: #AAA;\n",
              "      --disabled-bg-color: #DDD;\n",
              "  }\n",
              "\n",
              "  [theme=dark] .colab-df-quickchart {\n",
              "      --bg-color: #3B4455;\n",
              "      --fill-color: #D2E3FC;\n",
              "      --hover-bg-color: #434B5C;\n",
              "      --hover-fill-color: #FFFFFF;\n",
              "      --disabled-bg-color: #3B4455;\n",
              "      --disabled-fill-color: #666;\n",
              "  }\n",
              "\n",
              "  .colab-df-quickchart {\n",
              "    background-color: var(--bg-color);\n",
              "    border: none;\n",
              "    border-radius: 50%;\n",
              "    cursor: pointer;\n",
              "    display: none;\n",
              "    fill: var(--fill-color);\n",
              "    height: 32px;\n",
              "    padding: 0;\n",
              "    width: 32px;\n",
              "  }\n",
              "\n",
              "  .colab-df-quickchart:hover {\n",
              "    background-color: var(--hover-bg-color);\n",
              "    box-shadow: 0 1px 2px rgba(60, 64, 67, 0.3), 0 1px 3px 1px rgba(60, 64, 67, 0.15);\n",
              "    fill: var(--button-hover-fill-color);\n",
              "  }\n",
              "\n",
              "  .colab-df-quickchart-complete:disabled,\n",
              "  .colab-df-quickchart-complete:disabled:hover {\n",
              "    background-color: var(--disabled-bg-color);\n",
              "    fill: var(--disabled-fill-color);\n",
              "    box-shadow: none;\n",
              "  }\n",
              "\n",
              "  .colab-df-spinner {\n",
              "    border: 2px solid var(--fill-color);\n",
              "    border-color: transparent;\n",
              "    border-bottom-color: var(--fill-color);\n",
              "    animation:\n",
              "      spin 1s steps(1) infinite;\n",
              "  }\n",
              "\n",
              "  @keyframes spin {\n",
              "    0% {\n",
              "      border-color: transparent;\n",
              "      border-bottom-color: var(--fill-color);\n",
              "      border-left-color: var(--fill-color);\n",
              "    }\n",
              "    20% {\n",
              "      border-color: transparent;\n",
              "      border-left-color: var(--fill-color);\n",
              "      border-top-color: var(--fill-color);\n",
              "    }\n",
              "    30% {\n",
              "      border-color: transparent;\n",
              "      border-left-color: var(--fill-color);\n",
              "      border-top-color: var(--fill-color);\n",
              "      border-right-color: var(--fill-color);\n",
              "    }\n",
              "    40% {\n",
              "      border-color: transparent;\n",
              "      border-right-color: var(--fill-color);\n",
              "      border-top-color: var(--fill-color);\n",
              "    }\n",
              "    60% {\n",
              "      border-color: transparent;\n",
              "      border-right-color: var(--fill-color);\n",
              "    }\n",
              "    80% {\n",
              "      border-color: transparent;\n",
              "      border-right-color: var(--fill-color);\n",
              "      border-bottom-color: var(--fill-color);\n",
              "    }\n",
              "    90% {\n",
              "      border-color: transparent;\n",
              "      border-bottom-color: var(--fill-color);\n",
              "    }\n",
              "  }\n",
              "</style>\n",
              "\n",
              "  <script>\n",
              "    async function quickchart(key) {\n",
              "      const quickchartButtonEl =\n",
              "        document.querySelector('#' + key + ' button');\n",
              "      quickchartButtonEl.disabled = true;  // To prevent multiple clicks.\n",
              "      quickchartButtonEl.classList.add('colab-df-spinner');\n",
              "      try {\n",
              "        const charts = await google.colab.kernel.invokeFunction(\n",
              "            'suggestCharts', [key], {});\n",
              "      } catch (error) {\n",
              "        console.error('Error during call to suggestCharts:', error);\n",
              "      }\n",
              "      quickchartButtonEl.classList.remove('colab-df-spinner');\n",
              "      quickchartButtonEl.classList.add('colab-df-quickchart-complete');\n",
              "    }\n",
              "    (() => {\n",
              "      let quickchartButtonEl =\n",
              "        document.querySelector('#df-3d2187d0-2603-44d6-ad7b-c86c46f1427e button');\n",
              "      quickchartButtonEl.style.display =\n",
              "        google.colab.kernel.accessAllowed ? 'block' : 'none';\n",
              "    })();\n",
              "  </script>\n",
              "</div>\n",
              "\n",
              "    </div>\n",
              "  </div>\n"
            ],
            "application/vnd.google.colaboratory.intrinsic+json": {
              "type": "dataframe",
              "variable_name": "data",
              "summary": "{\n  \"name\": \"data\",\n  \"rows\": 183,\n  \"fields\": [\n    {\n      \"column\": 0,\n      \"properties\": {\n        \"dtype\": \"string\",\n        \"num_unique_values\": 181,\n        \"samples\": [\n          \"where is the ball\",\n          \"he is a good friend\",\n          \"go away\"\n        ],\n        \"semantic_type\": \"\",\n        \"description\": \"\"\n      }\n    },\n    {\n      \"column\": 1,\n      \"properties\": {\n        \"dtype\": \"number\",\n        \"std\": 1,\n        \"min\": 0,\n        \"max\": 4,\n        \"num_unique_values\": 5,\n        \"samples\": [\n          3,\n          0,\n          1\n        ],\n        \"semantic_type\": \"\",\n        \"description\": \"\"\n      }\n    }\n  ]\n}"
            }
          },
          "metadata": {},
          "execution_count": 3
        }
      ]
    },
    {
      "cell_type": "code",
      "source": [
        "# Making a dictionary of the of the list of emojies to be predicted\n",
        "emoji_dict = {\n",
        "    0 : \":red_heart:\",\n",
        "    1 : \":baseball:\",\n",
        "    2 : \":grinning_face_with_big_eyes:\",\n",
        "    3 : \":disappointed_face:\",\n",
        "    4 : \":fork_and_knife_with_plate:\"\n",
        "}\n",
        "\n",
        "# Making a function that will accept the emoji_dict as the input\n",
        "def label_to_emoji(label):\n",
        "\n",
        "  # It will return the correspong emoji\n",
        "  return emoji.emojize(emoji_dict[label])"
      ],
      "metadata": {
        "id": "UcwL3PVvsN3I"
      },
      "execution_count": 4,
      "outputs": []
    },
    {
      "cell_type": "code",
      "source": [
        "# Splitting the Dataset into X and Y\n",
        "X = data[0].values\n",
        "Y = data[1].values"
      ],
      "metadata": {
        "id": "UjLFTMiJtUi2"
      },
      "execution_count": 5,
      "outputs": []
    },
    {
      "cell_type": "code",
      "source": [
        "# Printing the first 5 lines in the X dataset\n",
        "print(X[:5])"
      ],
      "metadata": {
        "colab": {
          "base_uri": "https://localhost:8080/"
        },
        "id": "GWHLA0Hctdf5",
        "outputId": "7118329d-3c54-4d4d-d43d-f090bda140d1"
      },
      "execution_count": 6,
      "outputs": [
        {
          "output_type": "stream",
          "name": "stdout",
          "text": [
            "['French macaroon is so tasty' 'work is horrible' 'I am upset'\n",
            " 'throw the ball' 'Good joke']\n"
          ]
        }
      ]
    },
    {
      "cell_type": "code",
      "source": [
        "# Printing the first 5 values in the Y dataset\n",
        "print(Y[:5])"
      ],
      "metadata": {
        "colab": {
          "base_uri": "https://localhost:8080/"
        },
        "id": "SWKbdxa2tfHx",
        "outputId": "d7aae8f4-90e2-4845-f2b9-cdda98c76dbb"
      },
      "execution_count": 7,
      "outputs": [
        {
          "output_type": "stream",
          "name": "stdout",
          "text": [
            "[4 3 3 1 2]\n"
          ]
        }
      ]
    },
    {
      "cell_type": "markdown",
      "source": [
        "# **Embeddings**"
      ],
      "metadata": {
        "id": "IdFY9HfKtj6j"
      }
    },
    {
      "cell_type": "code",
      "source": [
        "# Opening the vector file that to be used during Embedding\n",
        "file = open(\"glove.6B.100d.txt\", \"r\", encoding = \"utf8\")\n",
        "\n",
        "# Reading the file\n",
        "content = file.readlines()\n",
        "file.close()"
      ],
      "metadata": {
        "id": "dQDbbmcrtffO"
      },
      "execution_count": 8,
      "outputs": []
    },
    {
      "cell_type": "code",
      "source": [
        "# Printing the first 2 words in the glove6b100d file\n",
        "for line in content[:2]:\n",
        "  line = line.split()\n",
        "  print(line)"
      ],
      "metadata": {
        "colab": {
          "base_uri": "https://localhost:8080/"
        },
        "id": "E7rbumnYBJih",
        "outputId": "6e03b98e-8570-46c0-e17e-9b36ce243dd6"
      },
      "execution_count": 9,
      "outputs": [
        {
          "output_type": "stream",
          "name": "stdout",
          "text": [
            "['the', '-0.038194', '-0.24487', '0.72812', '-0.39961', '0.083172', '0.043953', '-0.39141', '0.3344', '-0.57545', '0.087459', '0.28787', '-0.06731', '0.30906', '-0.26384', '-0.13231', '-0.20757', '0.33395', '-0.33848', '-0.31743', '-0.48336', '0.1464', '-0.37304', '0.34577', '0.052041', '0.44946', '-0.46971', '0.02628', '-0.54155', '-0.15518', '-0.14107', '-0.039722', '0.28277', '0.14393', '0.23464', '-0.31021', '0.086173', '0.20397', '0.52624', '0.17164', '-0.082378', '-0.71787', '-0.41531', '0.20335', '-0.12763', '0.41367', '0.55187', '0.57908', '-0.33477', '-0.36559', '-0.54857', '-0.062892', '0.26584', '0.30205', '0.99775', '-0.80481', '-3.0243', '0.01254', '-0.36942', '2.2167', '0.72201', '-0.24978', '0.92136', '0.034514', '0.46745', '1.1079', '-0.19358', '-0.074575', '0.23353', '-0.052062', '-0.22044', '0.057162', '-0.15806', '-0.30798', '-0.41625', '0.37972', '0.15006', '-0.53212', '-0.2055', '-1.2526', '0.071624', '0.70565', '0.49744', '-0.42063', '0.26148', '-1.538', '-0.30223', '-0.073438', '-0.28312', '0.37104', '-0.25217', '0.016215', '-0.017099', '-0.38984', '0.87424', '-0.72569', '-0.51058', '-0.52028', '-0.1459', '0.8278', '0.27062']\n",
            "[',', '-0.10767', '0.11053', '0.59812', '-0.54361', '0.67396', '0.10663', '0.038867', '0.35481', '0.06351', '-0.094189', '0.15786', '-0.81665', '0.14172', '0.21939', '0.58505', '-0.52158', '0.22783', '-0.16642', '-0.68228', '0.3587', '0.42568', '0.19021', '0.91963', '0.57555', '0.46185', '0.42363', '-0.095399', '-0.42749', '-0.16567', '-0.056842', '-0.29595', '0.26037', '-0.26606', '-0.070404', '-0.27662', '0.15821', '0.69825', '0.43081', '0.27952', '-0.45437', '-0.33801', '-0.58184', '0.22364', '-0.5778', '-0.26862', '-0.20425', '0.56394', '-0.58524', '-0.14365', '-0.64218', '0.0054697', '-0.35248', '0.16162', '1.1796', '-0.47674', '-2.7553', '-0.1321', '-0.047729', '1.0655', '1.1034', '-0.2208', '0.18669', '0.13177', '0.15117', '0.7131', '-0.35215', '0.91348', '0.61783', '0.70992', '0.23955', '-0.14571', '-0.37859', '-0.045959', '-0.47368', '0.2385', '0.20536', '-0.18996', '0.32507', '-1.1112', '-0.36341', '0.98679', '-0.084776', '-0.54008', '0.11726', '-1.0194', '-0.24424', '0.12771', '0.013884', '0.080374', '-0.35414', '0.34951', '-0.7226', '0.37549', '0.4441', '-0.99059', '0.61214', '-0.35111', '-0.83155', '0.45293', '0.082577']\n"
          ]
        }
      ]
    },
    {
      "cell_type": "code",
      "source": [
        "# Initializing the empty embedding dictionary\n",
        "embeddings = {}\n",
        "\n",
        "# Looping through all the words\n",
        "for line in content:\n",
        "  line = line.split()\n",
        "  # saving the word as key and saving the values as the value\n",
        "  embeddings[line[0]] = np.array(line[1:], dtype = float)"
      ],
      "metadata": {
        "id": "DRLNQwnODmx0"
      },
      "execution_count": 10,
      "outputs": []
    },
    {
      "cell_type": "code",
      "source": [
        "# Initializing the tokenizer\n",
        "tokenizer = Tokenizer()\n",
        "\n",
        "# Fitting the tokenizer on the X dataset\n",
        "tokenizer.fit_on_texts(X)\n",
        "\n",
        "# Changing the words into index\n",
        "word2index = tokenizer.word_index"
      ],
      "metadata": {
        "id": "W27pQyG7EGzV"
      },
      "execution_count": 11,
      "outputs": []
    },
    {
      "cell_type": "code",
      "source": [
        "# changing the text into sequence\n",
        "Xtokens = tokenizer.texts_to_sequences(X)"
      ],
      "metadata": {
        "id": "RhH8Ih5xF6BD"
      },
      "execution_count": 12,
      "outputs": []
    },
    {
      "cell_type": "code",
      "source": [
        "# Making a function to get the maximum length of the sequence\n",
        "def get_maxlen(data):\n",
        "\n",
        "  # First initializing the maxlen as 0\n",
        "  maxlen = 0\n",
        "\n",
        "  # Looping through all the sequences in the dataset\n",
        "  for sentence in data:\n",
        "    # Taking only the maximum value\n",
        "    maxlen = max(maxlen, len(sentence))\n",
        "  return maxlen\n",
        "\n",
        "maxlen = get_maxlen(Xtokens)\n",
        "print(maxlen)"
      ],
      "metadata": {
        "colab": {
          "base_uri": "https://localhost:8080/"
        },
        "id": "QWuOX-dhGRgq",
        "outputId": "63f0644c-51c7-4dac-ff68-e06fc2ab1554"
      },
      "execution_count": 13,
      "outputs": [
        {
          "output_type": "stream",
          "name": "stdout",
          "text": [
            "10\n"
          ]
        }
      ]
    },
    {
      "cell_type": "code",
      "source": [
        "# Post Padding all the sequences to the length of maxlen\n",
        "xtrain = pad_sequences(Xtokens,\n",
        "                       maxlen = maxlen,\n",
        "                       padding = \"post\",\n",
        "                       truncating = \"post\")"
      ],
      "metadata": {
        "id": "lXXe4IjHG8SJ"
      },
      "execution_count": 14,
      "outputs": []
    },
    {
      "cell_type": "code",
      "source": [
        "# Printing the first 2 lines after padding\n",
        "print(xtrain[:2])"
      ],
      "metadata": {
        "colab": {
          "base_uri": "https://localhost:8080/"
        },
        "id": "p9PmpWl3IduY",
        "outputId": "57b28a88-2603-46a1-f094-99beb77f9f97"
      },
      "execution_count": 15,
      "outputs": [
        {
          "output_type": "stream",
          "name": "stdout",
          "text": [
            "[[103 104   3   6 105   0   0   0   0   0]\n",
            " [106   3 107   0   0   0   0   0   0   0]]\n"
          ]
        }
      ]
    },
    {
      "cell_type": "code",
      "source": [
        "# Changing the Y dataset into categorical\n",
        "ytrain = to_categorical(Y)"
      ],
      "metadata": {
        "id": "_ZsQpmT6Iqu0"
      },
      "execution_count": 16,
      "outputs": []
    },
    {
      "cell_type": "markdown",
      "source": [
        "# **Model**"
      ],
      "metadata": {
        "id": "4tEdcN7cKu_E"
      }
    },
    {
      "cell_type": "code",
      "source": [
        "# Taking the embedding size = 100 as the glove dataset is of 100 dimension\n",
        "embd_size = 100\n",
        "\n",
        "# Initializing a embedding matrix with 0 values\n",
        "embedding_matrix = np.zeros((len(word2index) + 1, embd_size))\n",
        "\n",
        "# Looping through the word2index dictionary\n",
        "for word, i in word2index.items():\n",
        "  # Taking the values form the embedding dictionary corresponding to the word\n",
        "  if word in embeddings:\n",
        "    embd_vector = embeddings[word]\n",
        "    # Addin the value to the embedding matrix\n",
        "    embedding_matrix[i] = embd_vector\n",
        "  else:\n",
        "    # Handling the case when the word is not found in embeddings\n",
        "    pass"
      ],
      "metadata": {
        "id": "nKonBOTOLxpS"
      },
      "execution_count": 17,
      "outputs": []
    },
    {
      "cell_type": "code",
      "source": [
        "# Shape of the embedding matrix\n",
        "print(f\"Shape of the Embedding Matrix : {embedding_matrix.shape}\")"
      ],
      "metadata": {
        "colab": {
          "base_uri": "https://localhost:8080/"
        },
        "id": "5unLBwTrOqQE",
        "outputId": "87e93d99-be12-4dc9-cfd6-0ef1b05b4eff"
      },
      "execution_count": 18,
      "outputs": [
        {
          "output_type": "stream",
          "name": "stdout",
          "text": [
            "Shape of the Embedding Matrix : (313, 100)\n"
          ]
        }
      ]
    },
    {
      "cell_type": "code",
      "source": [
        "# Making a Deep Learning Model\n",
        "model = Sequential([\n",
        "    # 1st layer is the Embedding Layer\n",
        "    Embedding(input_dim = len(word2index)+1,\n",
        "              output_dim = embd_size,\n",
        "              input_length = maxlen,\n",
        "              weights = [embedding_matrix],\n",
        "              trainable = False),\n",
        "\n",
        "    # Adding 2 LSTM layers\n",
        "    LSTM(units = 16, return_sequences = True),\n",
        "    LSTM(units = 4),\n",
        "\n",
        "    # Output Layer that will predict\n",
        "    Dense(units = 5, activation = \"softmax\")\n",
        "])\n",
        "\n",
        "# Compiling the Model with the \"Adam\" Optimizer\n",
        "model.compile(optimizer = \"adam\", loss = \"categorical_crossentropy\", metrics = [\"accuracy\"])"
      ],
      "metadata": {
        "id": "pH0byybPJLEK"
      },
      "execution_count": 19,
      "outputs": []
    },
    {
      "cell_type": "code",
      "source": [
        "# Summary of the model\n",
        "model.summary()"
      ],
      "metadata": {
        "colab": {
          "base_uri": "https://localhost:8080/"
        },
        "id": "MIbBIFK8PpcQ",
        "outputId": "d6d878d4-dfcc-4e93-9dcc-69f4e84ddf0f"
      },
      "execution_count": 20,
      "outputs": [
        {
          "output_type": "stream",
          "name": "stdout",
          "text": [
            "Model: \"sequential\"\n",
            "_________________________________________________________________\n",
            " Layer (type)                Output Shape              Param #   \n",
            "=================================================================\n",
            " embedding (Embedding)       (None, 10, 100)           31300     \n",
            "                                                                 \n",
            " lstm (LSTM)                 (None, 10, 16)            7488      \n",
            "                                                                 \n",
            " lstm_1 (LSTM)               (None, 4)                 336       \n",
            "                                                                 \n",
            " dense (Dense)               (None, 5)                 25        \n",
            "                                                                 \n",
            "=================================================================\n",
            "Total params: 39149 (152.93 KB)\n",
            "Trainable params: 7849 (30.66 KB)\n",
            "Non-trainable params: 31300 (122.27 KB)\n",
            "_________________________________________________________________\n"
          ]
        }
      ]
    },
    {
      "cell_type": "code",
      "source": [
        "# Training the model\n",
        "model.fit(xtrain, ytrain, epochs = 100)"
      ],
      "metadata": {
        "colab": {
          "base_uri": "https://localhost:8080/"
        },
        "id": "KvKXe6gWPxfK",
        "outputId": "7526f9f4-7b1d-4d79-f9d3-f0f2850fec21"
      },
      "execution_count": 29,
      "outputs": [
        {
          "output_type": "stream",
          "name": "stdout",
          "text": [
            "Epoch 1/100\n",
            "6/6 [==============================] - 0s 18ms/step - loss: 0.2361 - accuracy: 0.9781\n",
            "Epoch 2/100\n",
            "6/6 [==============================] - 0s 20ms/step - loss: 0.2272 - accuracy: 0.9781\n",
            "Epoch 3/100\n",
            "6/6 [==============================] - 0s 20ms/step - loss: 0.2141 - accuracy: 0.9781\n",
            "Epoch 4/100\n",
            "6/6 [==============================] - 0s 18ms/step - loss: 0.2488 - accuracy: 0.9672\n",
            "Epoch 5/100\n",
            "6/6 [==============================] - 0s 18ms/step - loss: 0.2230 - accuracy: 0.9781\n",
            "Epoch 6/100\n",
            "6/6 [==============================] - 0s 12ms/step - loss: 0.1880 - accuracy: 0.9945\n",
            "Epoch 7/100\n",
            "6/6 [==============================] - 0s 12ms/step - loss: 0.2006 - accuracy: 0.9891\n",
            "Epoch 8/100\n",
            "6/6 [==============================] - 0s 10ms/step - loss: 0.1768 - accuracy: 0.9945\n",
            "Epoch 9/100\n",
            "6/6 [==============================] - 0s 10ms/step - loss: 0.1715 - accuracy: 0.9945\n",
            "Epoch 10/100\n",
            "6/6 [==============================] - 0s 10ms/step - loss: 0.1628 - accuracy: 0.9945\n",
            "Epoch 11/100\n",
            "6/6 [==============================] - 0s 13ms/step - loss: 0.1586 - accuracy: 0.9945\n",
            "Epoch 12/100\n",
            "6/6 [==============================] - 0s 11ms/step - loss: 0.1564 - accuracy: 0.9945\n",
            "Epoch 13/100\n",
            "6/6 [==============================] - 0s 10ms/step - loss: 0.1535 - accuracy: 0.9945\n",
            "Epoch 14/100\n",
            "6/6 [==============================] - 0s 12ms/step - loss: 0.1521 - accuracy: 0.9945\n",
            "Epoch 15/100\n",
            "6/6 [==============================] - 0s 13ms/step - loss: 0.1502 - accuracy: 0.9945\n",
            "Epoch 16/100\n",
            "6/6 [==============================] - 0s 12ms/step - loss: 0.1486 - accuracy: 0.9945\n",
            "Epoch 17/100\n",
            "6/6 [==============================] - 0s 10ms/step - loss: 0.1470 - accuracy: 0.9945\n",
            "Epoch 18/100\n",
            "6/6 [==============================] - 0s 11ms/step - loss: 0.1454 - accuracy: 0.9945\n",
            "Epoch 19/100\n",
            "6/6 [==============================] - 0s 10ms/step - loss: 0.1440 - accuracy: 0.9945\n",
            "Epoch 20/100\n",
            "6/6 [==============================] - 0s 11ms/step - loss: 0.1426 - accuracy: 0.9945\n",
            "Epoch 21/100\n",
            "6/6 [==============================] - 0s 10ms/step - loss: 0.1413 - accuracy: 0.9945\n",
            "Epoch 22/100\n",
            "6/6 [==============================] - 0s 12ms/step - loss: 0.1400 - accuracy: 0.9945\n",
            "Epoch 23/100\n",
            "6/6 [==============================] - 0s 10ms/step - loss: 0.1387 - accuracy: 0.9945\n",
            "Epoch 24/100\n",
            "6/6 [==============================] - 0s 10ms/step - loss: 0.1375 - accuracy: 0.9945\n",
            "Epoch 25/100\n",
            "6/6 [==============================] - 0s 14ms/step - loss: 0.1363 - accuracy: 0.9945\n",
            "Epoch 26/100\n",
            "6/6 [==============================] - 0s 10ms/step - loss: 0.1351 - accuracy: 0.9945\n",
            "Epoch 27/100\n",
            "6/6 [==============================] - 0s 10ms/step - loss: 0.1339 - accuracy: 0.9945\n",
            "Epoch 28/100\n",
            "6/6 [==============================] - 0s 12ms/step - loss: 0.1328 - accuracy: 0.9945\n",
            "Epoch 29/100\n",
            "6/6 [==============================] - 0s 10ms/step - loss: 0.1317 - accuracy: 0.9945\n",
            "Epoch 30/100\n",
            "6/6 [==============================] - 0s 12ms/step - loss: 0.1306 - accuracy: 0.9945\n",
            "Epoch 31/100\n",
            "6/6 [==============================] - 0s 10ms/step - loss: 0.1295 - accuracy: 0.9945\n",
            "Epoch 32/100\n",
            "6/6 [==============================] - 0s 13ms/step - loss: 0.1284 - accuracy: 0.9945\n",
            "Epoch 33/100\n",
            "6/6 [==============================] - 0s 10ms/step - loss: 0.1274 - accuracy: 0.9945\n",
            "Epoch 34/100\n",
            "6/6 [==============================] - 0s 11ms/step - loss: 0.1264 - accuracy: 0.9945\n",
            "Epoch 35/100\n",
            "6/6 [==============================] - 0s 10ms/step - loss: 0.1253 - accuracy: 0.9945\n",
            "Epoch 36/100\n",
            "6/6 [==============================] - 0s 12ms/step - loss: 0.1244 - accuracy: 0.9945\n",
            "Epoch 37/100\n",
            "6/6 [==============================] - 0s 10ms/step - loss: 0.1234 - accuracy: 0.9945\n",
            "Epoch 38/100\n",
            "6/6 [==============================] - 0s 12ms/step - loss: 0.1224 - accuracy: 0.9945\n",
            "Epoch 39/100\n",
            "6/6 [==============================] - 0s 13ms/step - loss: 0.1215 - accuracy: 0.9945\n",
            "Epoch 40/100\n",
            "6/6 [==============================] - 0s 10ms/step - loss: 0.1205 - accuracy: 0.9945\n",
            "Epoch 41/100\n",
            "6/6 [==============================] - 0s 12ms/step - loss: 0.1196 - accuracy: 0.9945\n",
            "Epoch 42/100\n",
            "6/6 [==============================] - 0s 11ms/step - loss: 0.1188 - accuracy: 0.9945\n",
            "Epoch 43/100\n",
            "6/6 [==============================] - 0s 12ms/step - loss: 0.1178 - accuracy: 0.9945\n",
            "Epoch 44/100\n",
            "6/6 [==============================] - 0s 10ms/step - loss: 0.1170 - accuracy: 0.9945\n",
            "Epoch 45/100\n",
            "6/6 [==============================] - 0s 12ms/step - loss: 0.1161 - accuracy: 0.9945\n",
            "Epoch 46/100\n",
            "6/6 [==============================] - 0s 10ms/step - loss: 0.1152 - accuracy: 0.9945\n",
            "Epoch 47/100\n",
            "6/6 [==============================] - 0s 10ms/step - loss: 0.1144 - accuracy: 0.9945\n",
            "Epoch 48/100\n",
            "6/6 [==============================] - 0s 11ms/step - loss: 0.1136 - accuracy: 0.9945\n",
            "Epoch 49/100\n",
            "6/6 [==============================] - 0s 10ms/step - loss: 0.1128 - accuracy: 0.9945\n",
            "Epoch 50/100\n",
            "6/6 [==============================] - 0s 10ms/step - loss: 0.1120 - accuracy: 0.9945\n",
            "Epoch 51/100\n",
            "6/6 [==============================] - 0s 10ms/step - loss: 0.1112 - accuracy: 0.9945\n",
            "Epoch 52/100\n",
            "6/6 [==============================] - 0s 10ms/step - loss: 0.1104 - accuracy: 0.9945\n",
            "Epoch 53/100\n",
            "6/6 [==============================] - 0s 13ms/step - loss: 0.1096 - accuracy: 0.9945\n",
            "Epoch 54/100\n",
            "6/6 [==============================] - 0s 12ms/step - loss: 0.1088 - accuracy: 0.9945\n",
            "Epoch 55/100\n",
            "6/6 [==============================] - 0s 12ms/step - loss: 0.1081 - accuracy: 0.9945\n",
            "Epoch 56/100\n",
            "6/6 [==============================] - 0s 10ms/step - loss: 0.1073 - accuracy: 0.9945\n",
            "Epoch 57/100\n",
            "6/6 [==============================] - 0s 12ms/step - loss: 0.1066 - accuracy: 0.9945\n",
            "Epoch 58/100\n",
            "6/6 [==============================] - 0s 10ms/step - loss: 0.1059 - accuracy: 0.9945\n",
            "Epoch 59/100\n",
            "6/6 [==============================] - 0s 11ms/step - loss: 0.1052 - accuracy: 0.9945\n",
            "Epoch 60/100\n",
            "6/6 [==============================] - 0s 10ms/step - loss: 0.1045 - accuracy: 0.9945\n",
            "Epoch 61/100\n",
            "6/6 [==============================] - 0s 11ms/step - loss: 0.1038 - accuracy: 0.9945\n",
            "Epoch 62/100\n",
            "6/6 [==============================] - 0s 10ms/step - loss: 0.1031 - accuracy: 0.9945\n",
            "Epoch 63/100\n",
            "6/6 [==============================] - 0s 12ms/step - loss: 0.1024 - accuracy: 0.9945\n",
            "Epoch 64/100\n",
            "6/6 [==============================] - 0s 10ms/step - loss: 0.1017 - accuracy: 0.9945\n",
            "Epoch 65/100\n",
            "6/6 [==============================] - 0s 12ms/step - loss: 0.1011 - accuracy: 0.9945\n",
            "Epoch 66/100\n",
            "6/6 [==============================] - 0s 12ms/step - loss: 0.1004 - accuracy: 0.9945\n",
            "Epoch 67/100\n",
            "6/6 [==============================] - 0s 13ms/step - loss: 0.0998 - accuracy: 0.9945\n",
            "Epoch 68/100\n",
            "6/6 [==============================] - 0s 11ms/step - loss: 0.0991 - accuracy: 0.9945\n",
            "Epoch 69/100\n",
            "6/6 [==============================] - 0s 10ms/step - loss: 0.0985 - accuracy: 0.9945\n",
            "Epoch 70/100\n",
            "6/6 [==============================] - 0s 10ms/step - loss: 0.0979 - accuracy: 0.9945\n",
            "Epoch 71/100\n",
            "6/6 [==============================] - 0s 10ms/step - loss: 0.0973 - accuracy: 0.9945\n",
            "Epoch 72/100\n",
            "6/6 [==============================] - 0s 12ms/step - loss: 0.0967 - accuracy: 0.9945\n",
            "Epoch 73/100\n",
            "6/6 [==============================] - 0s 10ms/step - loss: 0.0961 - accuracy: 0.9945\n",
            "Epoch 74/100\n",
            "6/6 [==============================] - 0s 12ms/step - loss: 0.0955 - accuracy: 0.9945\n",
            "Epoch 75/100\n",
            "6/6 [==============================] - 0s 10ms/step - loss: 0.0949 - accuracy: 0.9945\n",
            "Epoch 76/100\n",
            "6/6 [==============================] - 0s 10ms/step - loss: 0.0943 - accuracy: 0.9945\n",
            "Epoch 77/100\n",
            "6/6 [==============================] - 0s 12ms/step - loss: 0.0937 - accuracy: 0.9945\n",
            "Epoch 78/100\n",
            "6/6 [==============================] - 0s 12ms/step - loss: 0.0932 - accuracy: 0.9945\n",
            "Epoch 79/100\n",
            "6/6 [==============================] - 0s 11ms/step - loss: 0.0926 - accuracy: 0.9945\n",
            "Epoch 80/100\n",
            "6/6 [==============================] - 0s 14ms/step - loss: 0.0920 - accuracy: 0.9945\n",
            "Epoch 81/100\n",
            "6/6 [==============================] - 0s 12ms/step - loss: 0.0915 - accuracy: 0.9945\n",
            "Epoch 82/100\n",
            "6/6 [==============================] - 0s 12ms/step - loss: 0.0909 - accuracy: 0.9945\n",
            "Epoch 83/100\n",
            "6/6 [==============================] - 0s 11ms/step - loss: 0.0904 - accuracy: 0.9945\n",
            "Epoch 84/100\n",
            "6/6 [==============================] - 0s 12ms/step - loss: 0.0899 - accuracy: 0.9945\n",
            "Epoch 85/100\n",
            "6/6 [==============================] - 0s 13ms/step - loss: 0.0894 - accuracy: 0.9945\n",
            "Epoch 86/100\n",
            "6/6 [==============================] - 0s 12ms/step - loss: 0.0888 - accuracy: 0.9945\n",
            "Epoch 87/100\n",
            "6/6 [==============================] - 0s 12ms/step - loss: 0.0883 - accuracy: 0.9945\n",
            "Epoch 88/100\n",
            "6/6 [==============================] - 0s 12ms/step - loss: 0.0878 - accuracy: 0.9945\n",
            "Epoch 89/100\n",
            "6/6 [==============================] - 0s 12ms/step - loss: 0.0873 - accuracy: 0.9945\n",
            "Epoch 90/100\n",
            "6/6 [==============================] - 0s 11ms/step - loss: 0.0868 - accuracy: 0.9945\n",
            "Epoch 91/100\n",
            "6/6 [==============================] - 0s 12ms/step - loss: 0.0863 - accuracy: 0.9945\n",
            "Epoch 92/100\n",
            "6/6 [==============================] - 0s 10ms/step - loss: 0.0858 - accuracy: 0.9945\n",
            "Epoch 93/100\n",
            "6/6 [==============================] - 0s 12ms/step - loss: 0.0853 - accuracy: 0.9945\n",
            "Epoch 94/100\n",
            "6/6 [==============================] - 0s 13ms/step - loss: 0.0849 - accuracy: 0.9945\n",
            "Epoch 95/100\n",
            "6/6 [==============================] - 0s 12ms/step - loss: 0.0844 - accuracy: 0.9945\n",
            "Epoch 96/100\n",
            "6/6 [==============================] - 0s 10ms/step - loss: 0.0839 - accuracy: 0.9945\n",
            "Epoch 97/100\n",
            "6/6 [==============================] - 0s 12ms/step - loss: 0.0834 - accuracy: 0.9945\n",
            "Epoch 98/100\n",
            "6/6 [==============================] - 0s 10ms/step - loss: 0.0830 - accuracy: 0.9945\n",
            "Epoch 99/100\n",
            "6/6 [==============================] - 0s 11ms/step - loss: 0.0826 - accuracy: 0.9945\n",
            "Epoch 100/100\n",
            "6/6 [==============================] - 0s 10ms/step - loss: 0.0821 - accuracy: 0.9945\n"
          ]
        },
        {
          "output_type": "execute_result",
          "data": {
            "text/plain": [
              "<keras.src.callbacks.History at 0x7a6938de8fd0>"
            ]
          },
          "metadata": {},
          "execution_count": 29
        }
      ]
    },
    {
      "cell_type": "code",
      "source": [
        "# Now testing the Model on new data\n",
        "test = [\"I feel good\", \"I feel very bad\", \"Lets eat dinner\", \"Hey\", \"Thank you\", \"Dinner Time\", \"Baseball\"]\n",
        "\n",
        "# Tokenizing the Test Data\n",
        "test_seq = tokenizer.texts_to_sequences(test)\n",
        "# Padding the data\n",
        "xtest = pad_sequences(test_seq, maxlen = maxlen, padding = \"post\", truncating = \"post\")\n",
        "\n",
        "# Making the predictions\n",
        "y_pred = model.predict(xtest)\n",
        "# Only taking the Maximum value out of the 5 predictions\n",
        "y_pred = np.argmax(y_pred, axis = 1)\n",
        "\n",
        "# Printing the Test Data with the Predicted emoji\n",
        "for i in range(len(xtest)):\n",
        "  print(test[i], label_to_emoji(y_pred[i]))"
      ],
      "metadata": {
        "colab": {
          "base_uri": "https://localhost:8080/"
        },
        "id": "ZJtK_cVmP4pE",
        "outputId": "cae68cde-dd8d-4014-bf75-0b03f0cda28e"
      },
      "execution_count": 30,
      "outputs": [
        {
          "output_type": "stream",
          "name": "stdout",
          "text": [
            "1/1 [==============================] - 0s 23ms/step\n",
            "I feel good ❤️\n",
            "I feel very bad 😞\n",
            "Lets eat dinner 🍽️\n",
            "Hey 😃\n",
            "Thank you 😃\n",
            "Dinner Time 🍽️\n",
            "Baseball ⚾\n"
          ]
        }
      ]
    },
    {
      "cell_type": "code",
      "source": [],
      "metadata": {
        "id": "C-V52beopNug"
      },
      "execution_count": 25,
      "outputs": []
    }
  ]
}